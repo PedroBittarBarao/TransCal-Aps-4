{
 "cells": [
  {
   "cell_type": "code",
   "execution_count": 14,
   "metadata": {},
   "outputs": [],
   "source": [
    "import numpy as np\n",
    "import pandas as pd\n",
    "import matplotlib.pyplot as plt\n",
    "import funcoesTermosol as ft\n",
    "from APS import *"
   ]
  },
  {
   "cell_type": "code",
   "execution_count": 15,
   "metadata": {},
   "outputs": [],
   "source": [
    "[nn,N,nm,Inc,nc,F,nr,R] = ft.importa('Implement.xls')\n",
    "# nn = numero de nos\n",
    "# N = matriz dos nos\n",
    "# nm = numero de membros\n",
    "# Inc = matriz de incidencia\n",
    "# nc = numero de cargas\n",
    "# F = vetor de carregamento\n",
    "# nr = numero de restricoes\n",
    "# R = vetor com os graus de liberdade restritos"
   ]
  },
  {
   "cell_type": "code",
   "execution_count": 16,
   "metadata": {},
   "outputs": [
    {
     "name": "stdout",
     "output_type": "stream",
     "text": [
      "180.0\n"
     ]
    }
   ],
   "source": [
    "def angulo(No1,No2):\n",
    "    x_1= N[0][No1-1]\n",
    "    y_1= N[1][No1-1]\n",
    "    x_2= N[0][No2-1]\n",
    "    y_2= N[1][No2-1]\n",
    "\n",
    "    if x_2-x_1 == 0:\n",
    "        if y_2-y_1 > 0:\n",
    "            ang = 0.5*np.pi\n",
    "        else:\n",
    "            ang = 1.5*np.pi\n",
    "    else:\n",
    "        if x_2-x_1 > 0:\n",
    "            ang = np.arctan((y_2-y_1)/(x_2-x_1))\n",
    "        else:\n",
    "            ang = np.pi + np.arctan((y_2-y_1)/(x_2-x_1))\n",
    "    return ang\n",
    "\n",
    "print(np.rad2deg(angulo(3,1)))"
   ]
  },
  {
   "cell_type": "code",
   "execution_count": 17,
   "metadata": {},
   "outputs": [
    {
     "data": {
      "image/png": "[encoded data removed]",
      "text/plain": [
       "<Figure size 640x480 with 1 Axes>"
      ]
     },
     "metadata": {},
     "output_type": "display_data"
    }
   ],
   "source": [
    "ft.plota(N,Inc)"
   ]
  },
  {
   "cell_type": "code",
   "execution_count": 18,
   "metadata": {},
   "outputs": [
    {
     "name": "stdout",
     "output_type": "stream",
     "text": [
      "[[1.0000e+00 2.0000e+00 1.9314e+11 5.2500e-04]\n",
      " [2.0000e+00 4.0000e+00 1.9314e+11 5.2500e-04]\n",
      " [4.0000e+00 6.0000e+00 1.9314e+11 5.2500e-04]\n",
      " [6.0000e+00 7.0000e+00 1.9314e+11 5.2500e-04]\n",
      " [2.0000e+00 3.0000e+00 1.9314e+11 5.2500e-04]\n",
      " [3.0000e+00 4.0000e+00 1.9314e+11 5.2500e-04]\n",
      " [4.0000e+00 5.0000e+00 1.9314e+11 5.2500e-04]\n",
      " [5.0000e+00 6.0000e+00 1.9314e+11 5.2500e-04]\n",
      " [1.0000e+00 3.0000e+00 1.9314e+11 5.2500e-04]\n",
      " [3.0000e+00 5.0000e+00 1.9314e+11 5.2500e-04]\n",
      " [5.0000e+00 7.0000e+00 1.9314e+11 5.2500e-04]] \n",
      "\n",
      "[[  0. 144. 192. 288. 384. 432. 576.]\n",
      " [  0.  72.   0. 144.   0.  72.   0.]] \n",
      "\n",
      "[[ 0.]\n",
      " [ 1.]\n",
      " [13.]] \n",
      "\n",
      "[[    0.]\n",
      " [    0.]\n",
      " [-1300.]\n",
      " [-1500.]\n",
      " [    0.]\n",
      " [    0.]\n",
      " [-1300.]\n",
      " [-1500.]\n",
      " [    0.]\n",
      " [    0.]\n",
      " [-1300.]\n",
      " [-1500.]\n",
      " [    0.]\n",
      " [    0.]] \n",
      "\n"
     ]
    }
   ],
   "source": [
    "print(Inc,\"\\n\")\n",
    "print(N,\"\\n\")\n",
    "print(R,\"\\n\")\n",
    "print(F,\"\\n\")"
   ]
  },
  {
   "cell_type": "code",
   "execution_count": 19,
   "metadata": {},
   "outputs": [
    {
     "name": "stdout",
     "output_type": "stream",
     "text": [
      "Elemento 1\n",
      "x1 = 0.0,y_1 = 0.0,x_2 = 144.0,y_2 = 72.0,l = 160.99689437998487\n",
      "EA/l = 629816.4967125345\n",
      "[[ 503853.2  251926.6 -503853.2 -251926.6]\n",
      " [ 251926.6  125963.3 -251926.6 -125963.3]\n",
      " [-503853.2 -251926.6  503853.2  251926.6]\n",
      " [-251926.6 -125963.3  251926.6  125963.3]] \n",
      "\n",
      "Elemento 2\n",
      "x1 = 144.0,y_1 = 72.0,x_2 = 288.0,y_2 = 144.0,l = 160.99689437998487\n",
      "EA/l = 629816.4967125345\n",
      "[[ 503853.2  251926.6 -503853.2 -251926.6]\n",
      " [ 251926.6  125963.3 -251926.6 -125963.3]\n",
      " [-503853.2 -251926.6  503853.2  251926.6]\n",
      " [-251926.6 -125963.3  251926.6  125963.3]] \n",
      "\n",
      "Elemento 3\n",
      "x1 = 288.0,y_1 = 144.0,x_2 = 432.0,y_2 = 72.0,l = 160.99689437998487\n",
      "EA/l = 629816.4967125345\n",
      "[[ 503853.2 -251926.6 -503853.2  251926.6]\n",
      " [-251926.6  125963.3  251926.6 -125963.3]\n",
      " [-503853.2  251926.6  503853.2 -251926.6]\n",
      " [ 251926.6 -125963.3 -251926.6  125963.3]] \n",
      "\n",
      "Elemento 4\n",
      "x1 = 432.0,y_1 = 72.0,x_2 = 576.0,y_2 = 0.0,l = 160.99689437998487\n",
      "EA/l = 629816.4967125345\n",
      "[[ 503853.2 -251926.6 -503853.2  251926.6]\n",
      " [-251926.6  125963.3  251926.6 -125963.3]\n",
      " [-503853.2  251926.6  503853.2 -251926.6]\n",
      " [ 251926.6 -125963.3 -251926.6  125963.3]] \n",
      "\n",
      "Elemento 5\n",
      "x1 = 144.0,y_1 = 72.0,x_2 = 192.0,y_2 = 0.0,l = 86.53323061113575\n",
      "EA/l = 1171786.8301446645\n",
      "[[ 360549.79 -540824.69 -360549.79  540824.69]\n",
      " [-540824.69  811237.04  540824.69 -811237.04]\n",
      " [-360549.79  540824.69  360549.79 -540824.69]\n",
      " [ 540824.69 -811237.04 -540824.69  811237.04]] \n",
      "\n",
      "Elemento 6\n",
      "x1 = 192.0,y_1 = 0.0,x_2 = 288.0,y_2 = 144.0,l = 173.0664612222715\n",
      "EA/l = 585893.4150723323\n",
      "[[ 180274.9   270412.35 -180274.9  -270412.35]\n",
      " [ 270412.35  405618.52 -270412.35 -405618.52]\n",
      " [-180274.9  -270412.35  180274.9   270412.35]\n",
      " [-270412.35 -405618.52  270412.35  405618.52]] \n",
      "\n",
      "Elemento 7\n",
      "x1 = 288.0,y_1 = 144.0,x_2 = 384.0,y_2 = 0.0,l = 173.0664612222715\n",
      "EA/l = 585893.4150723323\n",
      "[[ 180274.9  -270412.35 -180274.9   270412.35]\n",
      " [-270412.35  405618.52  270412.35 -405618.52]\n",
      " [-180274.9   270412.35  180274.9  -270412.35]\n",
      " [ 270412.35 -405618.52 -270412.35  405618.52]] \n",
      "\n",
      "Elemento 8\n",
      "x1 = 384.0,y_1 = 0.0,x_2 = 432.0,y_2 = 72.0,l = 86.53323061113575\n",
      "EA/l = 1171786.8301446645\n",
      "[[ 360549.79  540824.69 -360549.79 -540824.69]\n",
      " [ 540824.69  811237.04 -540824.69 -811237.04]\n",
      " [-360549.79 -540824.69  360549.79  540824.69]\n",
      " [-540824.69 -811237.04  540824.69  811237.04]] \n",
      "\n",
      "Elemento 9\n",
      "x1 = 0.0,y_1 = 0.0,x_2 = 192.0,y_2 = 0.0,l = 192.0\n",
      "EA/l = 528117.1875\n",
      "[[ 528117.19       0.   -528117.19      -0.  ]\n",
      " [      0.         0.        -0.        -0.  ]\n",
      " [-528117.19      -0.    528117.19       0.  ]\n",
      " [     -0.        -0.         0.         0.  ]] \n",
      "\n",
      "Elemento 10\n",
      "x1 = 192.0,y_1 = 0.0,x_2 = 384.0,y_2 = 0.0,l = 192.0\n",
      "EA/l = 528117.1875\n",
      "[[ 528117.19       0.   -528117.19      -0.  ]\n",
      " [      0.         0.        -0.        -0.  ]\n",
      " [-528117.19      -0.    528117.19       0.  ]\n",
      " [     -0.        -0.         0.         0.  ]] \n",
      "\n",
      "Elemento 11\n",
      "x1 = 384.0,y_1 = 0.0,x_2 = 576.0,y_2 = 0.0,l = 192.0\n",
      "EA/l = 528117.1875\n",
      "[[ 528117.19       0.   -528117.19      -0.  ]\n",
      " [      0.         0.        -0.        -0.  ]\n",
      " [-528117.19      -0.    528117.19       0.  ]\n",
      " [     -0.        -0.         0.         0.  ]] \n",
      "\n"
     ]
    }
   ],
   "source": [
    "ks =[]\n",
    "dof_indices_list = []\n",
    "for i in range(0,nm):\n",
    "    dof_indices_list.append([int(Inc[i][0]),int(Inc[i][1])])\n",
    "    [x_1,y_1]= N[:,int(Inc[i][0])-1]\n",
    "    [x_2,y_2]= N[:,int(Inc[i][1])-1]\n",
    "    l = np.sqrt((x_2-x_1)**2+(y_2-y_1)**2)\n",
    "    k = Inc[i][2] * Inc[i][3] / l\n",
    "    print(f\"Elemento {i+1}\")\n",
    "    print(f\"x1 = {x_1},y_1 = {y_1},x_2 = {x_2},y_2 = {y_2},l = {l}\")\n",
    "    print(f\"EA/l = {k}\")\n",
    "    ang = angulo(int(Inc[i][0]),int(Inc[i][1]))\n",
    "    c = np.cos(ang)\n",
    "    s = np.sin(ang)\n",
    "\n",
    "    M = np.array([[c**2,c*s,-c**2,-c*s],[c*s,s**2,-c*s,-s**2],[-c**2,-c*s,c**2,c*s],[-c*s,-s**2,c*s,s**2]]) \n",
    "    ke = np.multiply(k,M)\n",
    "    ks.append(ke)\n",
    "    print(ke.round(2) , \"\\n\")\n"
   ]
  },
  {
   "cell_type": "code",
   "execution_count": 20,
   "metadata": {},
   "outputs": [
    {
     "name": "stdout",
     "output_type": "stream",
     "text": [
      "[[1031970.38  251926.6  -503853.2  -251926.6  -528117.19       0.\n",
      "        0.         0.         0.         0.         0.         0.\n",
      "        0.         0.  ]\n",
      " [ 251926.6   125963.3  -251926.6  -125963.3        0.         0.\n",
      "        0.         0.         0.         0.         0.         0.\n",
      "        0.         0.  ]\n",
      " [-503853.2  -251926.6  1368256.19  -36971.49 -360549.79  540824.69\n",
      "  -503853.2  -251926.6        0.         0.         0.         0.\n",
      "        0.         0.  ]\n",
      " [-251926.6  -125963.3   -36971.49 1063163.63  540824.69 -811237.04\n",
      "  -251926.6  -125963.3        0.         0.         0.         0.\n",
      "        0.         0.  ]\n",
      " [-528117.19       0.   -360549.79  540824.69 1597059.07 -270412.35\n",
      "  -180274.9  -270412.35 -528117.19       0.         0.         0.\n",
      "        0.         0.  ]\n",
      " [      0.         0.    540824.69 -811237.04 -270412.35 1216855.55\n",
      "  -270412.35 -405618.52       0.         0.         0.         0.\n",
      "        0.         0.  ]\n",
      " [      0.         0.   -503853.2  -251926.6  -180274.9  -270412.35\n",
      "  1368256.19       0.   -180274.9   270412.35 -503853.2   251926.6\n",
      "        0.         0.  ]\n",
      " [      0.         0.   -251926.6  -125963.3  -270412.35 -405618.52\n",
      "        0.   1063163.63  270412.35 -405618.52  251926.6  -125963.3\n",
      "        0.         0.  ]\n",
      " [      0.         0.         0.         0.   -528117.19       0.\n",
      "  -180274.9   270412.35 1597059.07  270412.35 -360549.79 -540824.69\n",
      "  -528117.19       0.  ]\n",
      " [      0.         0.         0.         0.         0.         0.\n",
      "   270412.35 -405618.52  270412.35 1216855.55 -540824.69 -811237.04\n",
      "        0.         0.  ]\n",
      " [      0.         0.         0.         0.         0.         0.\n",
      "  -503853.2   251926.6  -360549.79 -540824.69 1368256.19   36971.49\n",
      "  -503853.2   251926.6 ]\n",
      " [      0.         0.         0.         0.         0.         0.\n",
      "   251926.6  -125963.3  -540824.69 -811237.04   36971.49 1063163.63\n",
      "   251926.6  -125963.3 ]\n",
      " [      0.         0.         0.         0.         0.         0.\n",
      "        0.         0.   -528117.19       0.   -503853.2   251926.6\n",
      "  1031970.38 -251926.6 ]\n",
      " [      0.         0.         0.         0.         0.         0.\n",
      "        0.         0.         0.         0.    251926.6  -125963.3\n",
      "  -251926.6   125963.3 ]]\n",
      "(14, 14)\n"
     ]
    }
   ],
   "source": [
    "global_stiffness_matrix = np.zeros((nn*2, nn*2))\n",
    "\n",
    "dof_indices_list\n",
    "\n",
    "for i in range (len(dof_indices_list)):\n",
    "    dof1 = (dof_indices_list[i][0]-1)*2\n",
    "    dof2 = (dof_indices_list[i][0]-1)*2+1\n",
    "    dof3 = (dof_indices_list[i][1]-1)*2\n",
    "    dof4 = (dof_indices_list[i][1]-1)*2+1\n",
    "\n",
    "    global_stiffness_matrix[np.ix_([dof1,dof2,dof3,dof4],[dof1,dof2,dof3,dof4])] += ks[i]\n",
    "\n",
    "print(global_stiffness_matrix.round(2))\n",
    "print(global_stiffness_matrix.shape)\n",
    "global_stiffness_matrix_uncut = global_stiffness_matrix.copy()\n"
   ]
  },
  {
   "cell_type": "code",
   "execution_count": 21,
   "metadata": {},
   "outputs": [
    {
     "name": "stdout",
     "output_type": "stream",
     "text": [
      "(14, 14)\n",
      "(14, 1)\n",
      "[[1368256.19  -36971.49 -360549.79  540824.69 -503853.2  -251926.6\n",
      "        0.         0.         0.         0.         0.  ]\n",
      " [ -36971.49 1063163.63  540824.69 -811237.04 -251926.6  -125963.3\n",
      "        0.         0.         0.         0.         0.  ]\n",
      " [-360549.79  540824.69 1597059.07 -270412.35 -180274.9  -270412.35\n",
      "  -528117.19       0.         0.         0.         0.  ]\n",
      " [ 540824.69 -811237.04 -270412.35 1216855.55 -270412.35 -405618.52\n",
      "        0.         0.         0.         0.         0.  ]\n",
      " [-503853.2  -251926.6  -180274.9  -270412.35 1368256.19       0.\n",
      "  -180274.9   270412.35 -503853.2   251926.6        0.  ]\n",
      " [-251926.6  -125963.3  -270412.35 -405618.52       0.   1063163.63\n",
      "   270412.35 -405618.52  251926.6  -125963.3        0.  ]\n",
      " [      0.         0.   -528117.19       0.   -180274.9   270412.35\n",
      "  1597059.07  270412.35 -360549.79 -540824.69 -528117.19]\n",
      " [      0.         0.         0.         0.    270412.35 -405618.52\n",
      "   270412.35 1216855.55 -540824.69 -811237.04       0.  ]\n",
      " [      0.         0.         0.         0.   -503853.2   251926.6\n",
      "  -360549.79 -540824.69 1368256.19   36971.49 -503853.2 ]\n",
      " [      0.         0.         0.         0.    251926.6  -125963.3\n",
      "  -540824.69 -811237.04   36971.49 1063163.63  251926.6 ]\n",
      " [      0.         0.         0.         0.         0.         0.\n",
      "  -528117.19       0.   -503853.2   251926.6  1031970.38]]\n",
      "(11, 11)\n",
      "(11,)\n"
     ]
    }
   ],
   "source": [
    "u = np.zeros((nn*2,1))\n",
    "dropped = 0\n",
    "print(global_stiffness_matrix.shape)\n",
    "print(F.shape)\n",
    "\n",
    "for i in range (len(R)):\n",
    "    global_stiffness_matrix = np.delete(global_stiffness_matrix, int(R[i][0])-dropped, 0)\n",
    "    global_stiffness_matrix = np.delete(global_stiffness_matrix, int(R[i][0])-dropped, 1)\n",
    "    u = np.delete(u, int(R[i][0]) - dropped, None)\n",
    "    F = np.delete(F, int(R[i][0]) - dropped, None)\n",
    "    dropped += 1\n",
    "    \n",
    "\n",
    "print(global_stiffness_matrix.round(2))\n",
    "print(global_stiffness_matrix.shape)\n",
    "print(u.shape)"
   ]
  },
  {
   "cell_type": "code",
   "execution_count": 22,
   "metadata": {},
   "outputs": [
    {
     "name": "stdout",
     "output_type": "stream",
     "text": [
      "[-1300. -1500.     0.     0. -1300. -1500.     0.     0. -1300. -1500.\n",
      "     0.]\n",
      "(11,)\n"
     ]
    }
   ],
   "source": [
    "print(F)\n",
    "print(F.shape)"
   ]
  },
  {
   "cell_type": "code",
   "execution_count": 23,
   "metadata": {},
   "outputs": [
    {
     "name": "stdout",
     "output_type": "stream",
     "text": [
      "[ 0.01004594 -0.04311335  0.00359693 -0.04662698  0.00259644 -0.04438865\n",
      "  0.00558461 -0.04637178 -0.00324337 -0.04247417  0.01164328]\n",
      "Erro max = 4.188738872294173e-06\n",
      "Iterações : 358\n"
     ]
    }
   ],
   "source": [
    "result_a,max_e,i = gauss_seidel_solver(500,1e-5,global_stiffness_matrix,F)\n",
    "print(result_a)\n",
    "print(f\"Erro max = {max_e}\")\n",
    "print(f\"Iterações : {i}\")"
   ]
  },
  {
   "cell_type": "code",
   "execution_count": 24,
   "metadata": {},
   "outputs": [
    {
     "name": "stdout",
     "output_type": "stream",
     "text": [
      "[[ 0.        ]\n",
      " [ 0.        ]\n",
      " [ 0.01004594]\n",
      " [-0.04311335]\n",
      " [ 0.00359693]\n",
      " [-0.04662698]\n",
      " [ 0.00259644]\n",
      " [-0.04438865]\n",
      " [ 0.00558461]\n",
      " [-0.04637178]\n",
      " [-0.00324337]\n",
      " [-0.04247417]\n",
      " [ 0.01164328]\n",
      " [ 0.        ]]\n"
     ]
    }
   ],
   "source": [
    "u_completo = np.zeros((nn*2,1))\n",
    "count = 0\n",
    "for i in range (nn*2):\n",
    "    if i not in R:\n",
    "        u_completo[i] = result_a[count]\n",
    "        count += 1\n",
    "        \n",
    "\n",
    "print(u_completo)\n"
   ]
  },
  {
   "cell_type": "code",
   "execution_count": 25,
   "metadata": {},
   "outputs": [
    {
     "name": "stdout",
     "output_type": "stream",
     "text": [
      "deslocamentos\n",
      "[[ 0.        ]\n",
      " [ 0.        ]\n",
      " [ 0.01004594]\n",
      " [-0.04311335]\n",
      " [ 0.00359693]\n",
      " [-0.04662698]\n",
      " [ 0.00259644]\n",
      " [-0.04438865]\n",
      " [ 0.00558461]\n",
      " [-0.04637178]\n",
      " [-0.00324337]\n",
      " [-0.04247417]\n",
      " [ 0.01164328]\n",
      " [ 0.        ]] \n",
      "\n",
      "deformações\n",
      "[-6.394851725246424e-05, -4.492861537123129e-05, -3.7761391968810355e-05, -3.528021028075598e-05, -7.554931472286066e-06, 7.554495328030876e-06, 1.9111748700410856e-05, -1.911256490355454e-05, 1.873402884435954e-05, 1.0352458075936525e-05, 3.1555579379302935e-05] \n",
      "\n",
      "tensões\n",
      "[-12351016.622140944, -8677512.772799611, -7293235.244856032, -6814019.81362521, -1459159.4645573308, 1459075.2276558834, 3691243.1439973526, -3691400.785472524, 3618290.330999601, 1999473.7527863805, 6094644.601318569] \n",
      "\n",
      "forças\n",
      "[-6484.28372662 -4555.69420572 -3828.94850355 -3577.36040215\n",
      "  -766.05871889   766.01449452  1937.9026506  -1937.98541237\n",
      "  1899.60242377  1049.72372021  3199.68841569]\n",
      "reacoes\n",
      "[3900.11725548]\n",
      "[2899.85983963]\n",
      "[1599.84420785]\n"
     ]
    }
   ],
   "source": [
    "deform = []\n",
    "tens = []\n",
    "\n",
    "for el in range(nm):\n",
    "    u_1 = int(Inc[el][0]-1)*2\n",
    "    v_1 = int(Inc[el][0]-1)*2+1\n",
    "    u_2 = int(Inc[el][1]-1)*2\n",
    "    v_2 = int(Inc[el][1]-1)*2+1\n",
    "\n",
    "    ang = angulo(int(Inc[el][0]),int(Inc[el][1]))\n",
    "    c = np.cos(ang)\n",
    "    s = np.sin(ang)\n",
    "    [x_1,y_1]= N[:,int(Inc[el][0])-1]\n",
    "    [x_2,y_2]= N[:,int(Inc[el][1])-1]\n",
    "    l = np.sqrt((x_2-x_1)**2+(y_2-y_1)**2)\n",
    "    e = np.dot(np.array([-c,-s,c,s]),np.array([u_completo[u_1],u_completo[v_1],u_completo[u_2],u_completo[v_2]]))\n",
    "    e = np.multiply(e,1/l)\n",
    "    deform.append(e[0])\n",
    "    tens.append(Inc[el][2]*e[0])\n",
    "\n",
    "print(\"deslocamentos\")\n",
    "print(u_completo,\"\\n\")\n",
    "print(\"deformações\")\n",
    "print(deform,\"\\n\")\n",
    "print(\"tensões\")\n",
    "print((tens),\"\\n\")\n",
    "print(\"forças\")\n",
    "Fi = tens*Inc[:,3]\n",
    "print(Fi)\n",
    "print(\"reacoes\")\n",
    "Reac = ((np.matmul(global_stiffness_matrix_uncut,u_completo)))\n",
    "for i in range (nn*2):\n",
    "    if i in R:\n",
    "        print(Reac[i])\n",
    "    "
   ]
  },
  {
   "cell_type": "code",
   "execution_count": 26,
   "metadata": {},
   "outputs": [],
   "source": [
    "ft.geraSaida(\"saidaImplement\",Reac,u_completo,deform,Fi,tens)"
   ]
  }
 ],
 "metadata": {
  "kernelspec": {
   "display_name": "Python 3",
   "language": "python",
   "name": "python3"
  },
  "language_info": {
   "codemirror_mode": {
    "name": "ipython",
    "version": 3
   },
   "file_extension": ".py",
   "mimetype": "text/x-python",
   "name": "python",
   "nbconvert_exporter": "python",
   "pygments_lexer": "ipython3",
   "version": "3.11.3"
  },
  "orig_nbformat": 4
 },
 "nbformat": 4,
 "nbformat_minor": 2
}
