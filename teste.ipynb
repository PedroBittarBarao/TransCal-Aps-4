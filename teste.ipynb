{
 "cells": [
  {
   "cell_type": "code",
   "execution_count": 71,
   "metadata": {},
   "outputs": [],
   "source": [
    "import numpy as np\n",
    "import pandas as pd\n",
    "import matplotlib.pyplot as plt\n",
    "import funcoesTermosol as ft\n",
    "from APS import *"
   ]
  },
  {
   "cell_type": "code",
   "execution_count": 72,
   "metadata": {},
   "outputs": [],
   "source": [
    "[nn,N,nm,Inc,nc,F,nr,R] = ft.importa('entrada.xls')\n",
    "# nn = numero de nos\n",
    "# N = matriz dos nos\n",
    "# nm = numero de membros\n",
    "# Inc = matriz de incidencia\n",
    "# nc = numero de cargas\n",
    "# F = vetor de carregamento\n",
    "# nr = numero de restricoes\n",
    "# R = vetor com os graus de liberdade restritos"
   ]
  },
  {
   "cell_type": "code",
   "execution_count": 73,
   "metadata": {},
   "outputs": [
    {
     "name": "stdout",
     "output_type": "stream",
     "text": [
      "233.13010235415598\n"
     ]
    }
   ],
   "source": [
    "def angulo(No1,No2):\n",
    "    x_1= N[0][No1-1]\n",
    "    y_1= N[1][No1-1]\n",
    "    x_2= N[0][No2-1]\n",
    "    y_2= N[1][No2-1]\n",
    "\n",
    "    if x_2-x_1 == 0:\n",
    "        if y_2-y_1 > 0:\n",
    "            ang = 0.5*np.pi\n",
    "        else:\n",
    "            ang = 1.5*np.pi\n",
    "    else:\n",
    "        if x_2-x_1 > 0:\n",
    "            ang = np.arctan((y_2-y_1)/(x_2-x_1))\n",
    "        else:\n",
    "            ang = np.pi + np.arctan((y_2-y_1)/(x_2-x_1))\n",
    "    return ang\n",
    "\n",
    "print(np.rad2deg(angulo(3,1)))"
   ]
  },
  {
   "cell_type": "code",
   "execution_count": 74,
   "metadata": {},
   "outputs": [
    {
     "data": {
      "image/png": "[encoded data removed]",
      "text/plain": [
       "<Figure size 640x480 with 1 Axes>"
      ]
     },
     "metadata": {},
     "output_type": "display_data"
    }
   ],
   "source": [
    "ft.plota(N,Inc)"
   ]
  },
  {
   "cell_type": "code",
   "execution_count": 75,
   "metadata": {},
   "outputs": [
    {
     "name": "stdout",
     "output_type": "stream",
     "text": [
      "[[1.0e+00 2.0e+00 2.1e+11 2.0e-04]\n",
      " [2.0e+00 3.0e+00 2.1e+11 2.0e-04]\n",
      " [3.0e+00 1.0e+00 2.1e+11 2.0e-04]] \n",
      "\n",
      "[[0.  0.  0.3]\n",
      " [0.  0.4 0.4]] \n",
      "\n",
      "[[0.]\n",
      " [2.]\n",
      " [3.]]\n"
     ]
    }
   ],
   "source": [
    "print(Inc,\"\\n\")\n",
    "print(N,\"\\n\")\n",
    "print(R)"
   ]
  },
  {
   "cell_type": "code",
   "execution_count": 76,
   "metadata": {},
   "outputs": [
    {
     "name": "stdout",
     "output_type": "stream",
     "text": [
      "Elemento 1\n",
      "x1 = 0.0,y_1 = 0.0,x_2 = 0.0,y_2 = 0.4,l = 0.4\n",
      "EA/l = 105000000.0\n",
      "[[ 0.00e+00  0.00e+00 -0.00e+00 -0.00e+00]\n",
      " [ 0.00e+00  1.05e+08 -0.00e+00 -1.05e+08]\n",
      " [-0.00e+00 -0.00e+00  0.00e+00  0.00e+00]\n",
      " [-0.00e+00 -1.05e+08  0.00e+00  1.05e+08]] \n",
      "\n",
      "Elemento 2\n",
      "x1 = 0.0,y_1 = 0.4,x_2 = 0.3,y_2 = 0.4,l = 0.3\n",
      "EA/l = 140000000.0\n",
      "[[ 1.4e+08  0.0e+00 -1.4e+08 -0.0e+00]\n",
      " [ 0.0e+00  0.0e+00 -0.0e+00 -0.0e+00]\n",
      " [-1.4e+08 -0.0e+00  1.4e+08  0.0e+00]\n",
      " [-0.0e+00 -0.0e+00  0.0e+00  0.0e+00]] \n",
      "\n",
      "Elemento 3\n",
      "x1 = 0.3,y_1 = 0.4,x_2 = 0.0,y_2 = 0.0,l = 0.5\n",
      "EA/l = 84000000.0\n",
      "[[ 30240000.  40320000. -30240000. -40320000.]\n",
      " [ 40320000.  53760000. -40320000. -53760000.]\n",
      " [-30240000. -40320000.  30240000.  40320000.]\n",
      " [-40320000. -53760000.  40320000.  53760000.]] \n",
      "\n"
     ]
    }
   ],
   "source": [
    "ks =[]\n",
    "dof_indices_list = []\n",
    "for i in range(0,nm):\n",
    "    dof_indices_list.append([int(Inc[i][0]),int(Inc[i][1])])\n",
    "    [x_1,y_1]= N[:,int(Inc[i][0])-1]\n",
    "    [x_2,y_2]= N[:,int(Inc[i][1])-1]\n",
    "    l = np.sqrt((x_2-x_1)**2+(y_2-y_1)**2)\n",
    "    k = Inc[i][2] * Inc[i][3] / l\n",
    "    print(f\"Elemento {i+1}\")\n",
    "    print(f\"x1 = {x_1},y_1 = {y_1},x_2 = {x_2},y_2 = {y_2},l = {l}\")\n",
    "    print(f\"EA/l = {k}\")\n",
    "    ang = angulo(int(Inc[i][0]),int(Inc[i][1]))\n",
    "    c = np.cos(ang)\n",
    "    s = np.sin(ang)\n",
    "\n",
    "    M = np.array([[c**2,c*s,-c**2,-c*s],[c*s,s**2,-c*s,-s**2],[-c**2,-c*s,c**2,c*s],[-c*s,-s**2,c*s,s**2]]) \n",
    "    ke = np.multiply(k,M)\n",
    "    ks.append(ke)\n",
    "    print(ke.round(2) , \"\\n\")\n"
   ]
  },
  {
   "cell_type": "code",
   "execution_count": 77,
   "metadata": {},
   "outputs": [
    {
     "name": "stdout",
     "output_type": "stream",
     "text": [
      "[[ 3.0240e+07  4.0320e+07 -0.0000e+00 -0.0000e+00 -3.0240e+07 -4.0320e+07]\n",
      " [ 4.0320e+07  1.5876e+08 -0.0000e+00 -1.0500e+08 -4.0320e+07 -5.3760e+07]\n",
      " [-0.0000e+00 -0.0000e+00  1.4000e+08  0.0000e+00 -1.4000e+08  0.0000e+00]\n",
      " [-0.0000e+00 -1.0500e+08  0.0000e+00  1.0500e+08  0.0000e+00  0.0000e+00]\n",
      " [-3.0240e+07 -4.0320e+07 -1.4000e+08  0.0000e+00  1.7024e+08  4.0320e+07]\n",
      " [-4.0320e+07 -5.3760e+07  0.0000e+00  0.0000e+00  4.0320e+07  5.3760e+07]]\n"
     ]
    }
   ],
   "source": [
    "global_stiffness_matrix = np.zeros((nm*2, nm*2))\n",
    "\n",
    "\n",
    "dof_indices_list\n",
    "\n",
    "for i in range (len(dof_indices_list)):\n",
    "    dof1 = (dof_indices_list[i][0]-1)*2\n",
    "    dof2 = (dof_indices_list[i][0]-1)*2+1\n",
    "    dof3 = (dof_indices_list[i][1]-1)*2\n",
    "    dof4 = (dof_indices_list[i][1]-1)*2+1\n",
    "\n",
    "    global_stiffness_matrix[np.ix_([dof1,dof2,dof3,dof4],[dof1,dof2,dof3,dof4])] += ks[i]\n",
    "\n",
    "print(global_stiffness_matrix.round(2))\n",
    "global_stiffness_matrix_uncut = global_stiffness_matrix.copy()"
   ]
  },
  {
   "cell_type": "code",
   "execution_count": 78,
   "metadata": {},
   "outputs": [
    {
     "name": "stdout",
     "output_type": "stream",
     "text": [
      "[[ 1.5876e+08 -4.0320e+07 -5.3760e+07]\n",
      " [-4.0320e+07  1.7024e+08  4.0320e+07]\n",
      " [-5.3760e+07  4.0320e+07  5.3760e+07]]\n",
      "[0. 0. 0.]\n",
      "[   0.  150. -100.]\n"
     ]
    }
   ],
   "source": [
    "u = np.zeros((nn*2,1))\n",
    "dropped = 0\n",
    "\n",
    "for i in range (len(R)):\n",
    "    global_stiffness_matrix = np.delete(global_stiffness_matrix, int(R[i][0])-dropped, 0)\n",
    "    global_stiffness_matrix = np.delete(global_stiffness_matrix, int(R[i][0])-dropped, 1)\n",
    "    u = np.delete(u, int(R[i][0]) - dropped, None)\n",
    "    F = np.delete(F, int(R[i][0]) - dropped, None)\n",
    "    dropped += 1\n",
    "    \n",
    "\n",
    "print(global_stiffness_matrix.round(2))\n",
    "print(u)\n",
    "print(F)"
   ]
  },
  {
   "cell_type": "code",
   "execution_count": 79,
   "metadata": {},
   "outputs": [
    {
     "name": "stdout",
     "output_type": "stream",
     "text": [
      "[   0.  150. -100.]\n"
     ]
    }
   ],
   "source": [
    "\n",
    "print(F)"
   ]
  },
  {
   "cell_type": "code",
   "execution_count": 80,
   "metadata": {},
   "outputs": [
    {
     "name": "stdout",
     "output_type": "stream",
     "text": [
      "[-9.52362073e-07  1.60712449e-06 -4.01782449e-06]\n",
      "Erro max = 1.5869431441387516e-05\n",
      "Iterações : 10\n"
     ]
    }
   ],
   "source": [
    "result_a,max_e,i = gauss_seidel_solver(100,0.0001,global_stiffness_matrix,F)\n",
    "print(result_a)\n",
    "print(f\"Erro max = {max_e}\")\n",
    "print(f\"Iterações : {i}\")"
   ]
  },
  {
   "cell_type": "code",
   "execution_count": 81,
   "metadata": {},
   "outputs": [
    {
     "name": "stdout",
     "output_type": "stream",
     "text": [
      "[[ 0.00000000e+00]\n",
      " [-9.52362073e-07]\n",
      " [ 0.00000000e+00]\n",
      " [ 0.00000000e+00]\n",
      " [ 1.60712449e-06]\n",
      " [-4.01782449e-06]]\n"
     ]
    }
   ],
   "source": [
    "u_completo = np.zeros((nn*2,1))\n",
    "count = 0\n",
    "for i in range (nn*2):\n",
    "    if i not in R:\n",
    "        u_completo[i] = result_a[count]\n",
    "        count += 1\n",
    "        \n",
    "\n",
    "print(u_completo)\n"
   ]
  },
  {
   "cell_type": "code",
   "execution_count": 82,
   "metadata": {},
   "outputs": [
    {
     "name": "stdout",
     "output_type": "stream",
     "text": [
      "deslocamentos\n",
      "[[ 0.00000000e+00]\n",
      " [-9.52362073e-07]\n",
      " [ 0.00000000e+00]\n",
      " [ 0.00000000e+00]\n",
      " [ 1.60712449e-06]\n",
      " [-4.01782449e-06]] \n",
      "\n",
      "deformações\n",
      "[2.3809051819947297e-06, 5.357081646976166e-06, -2.976190476190476e-06] \n",
      "\n",
      "tensões\n",
      "[499990.0882188932, 1124987.145864995, -624999.9999999999] \n",
      "\n",
      "forças\n",
      "[  99.99801764  224.99742917 -125.        ]\n",
      "reacoes\n",
      "74.99999999999997\n",
      "-224.99742917299898\n",
      "99.99801764377865\n"
     ]
    }
   ],
   "source": [
    "deform = []\n",
    "tens = []\n",
    "\n",
    "for el in range(nm):\n",
    "    u_1 = int(Inc[el][0]-1)*2\n",
    "    v_1 = int(Inc[el][0]-1)*2+1\n",
    "    u_2 = int(Inc[el][1]-1)*2\n",
    "    v_2 = int(Inc[el][1]-1)*2+1\n",
    "\n",
    "    ang = angulo(int(Inc[el][0]),int(Inc[el][1]))\n",
    "    c = np.cos(ang)\n",
    "    s = np.sin(ang)\n",
    "    [x_1,y_1]= N[:,int(Inc[el][0])-1]\n",
    "    [x_2,y_2]= N[:,int(Inc[el][1])-1]\n",
    "    l = np.sqrt((x_2-x_1)**2+(y_2-y_1)**2)\n",
    "    e = np.dot(np.array([-c,-s,c,s]),np.array([u_completo[u_1],u_completo[v_1],u_completo[u_2],u_completo[v_2]]))\n",
    "    e = np.multiply(e,1/l)\n",
    "    deform.append(e[0])\n",
    "    tens.append(Inc[el][2]*e[0])\n",
    "\n",
    "print(\"deslocamentos\")\n",
    "print(u_completo,\"\\n\")\n",
    "print(\"deformações\")\n",
    "print(deform,\"\\n\")\n",
    "print(\"tensões\")\n",
    "print((tens),\"\\n\")\n",
    "print(\"forças\")\n",
    "Fi = tens*Inc[:,3]\n",
    "print(Fi)\n",
    "print(\"reacoes\")\n",
    "Reac_uncut = ((np.matmul(global_stiffness_matrix_uncut,u_completo)))\n",
    "Reac =[]\n",
    "for i in range (nn*2):\n",
    "    if i in R:\n",
    "        Reac.append(Reac_uncut[i][0])\n",
    "        print(f\"{Reac_uncut[i][0]}\")\n",
    "    "
   ]
  },
  {
   "cell_type": "code",
   "execution_count": 83,
   "metadata": {},
   "outputs": [],
   "source": [
    "ft.geraSaida(\"saidaTeste\",Reac,u_completo,deform,Fi,tens)"
   ]
  },
  {
   "cell_type": "code",
   "execution_count": 84,
   "metadata": {},
   "outputs": [
    {
     "data": {
      "image/png": "[encoded data removed]",
      "text/plain": [
       "<Figure size 640x480 with 1 Axes>"
      ]
     },
     "metadata": {},
     "output_type": "display_data"
    }
   ],
   "source": [
    "N2 = N.copy()\n",
    "for i in range (nn):\n",
    "    N2[0][i] += (u_completo[i*2][0])*10000\n",
    "    N2[1][i] += (u_completo[i*2+1][0])*10000\n",
    "\n",
    "\n",
    "\n",
    "ft.plota(N2,Inc)"
   ]
  }
 ],
 "metadata": {
  "kernelspec": {
   "display_name": "Python 3",
   "language": "python",
   "name": "python3"
  },
  "language_info": {
   "codemirror_mode": {
    "name": "ipython",
    "version": 3
   },
   "file_extension": ".py",
   "mimetype": "text/x-python",
   "name": "python",
   "nbconvert_exporter": "python",
   "pygments_lexer": "ipython3",
   "version": "3.11.3"
  },
  "orig_nbformat": 4
 },
 "nbformat": 4,
 "nbformat_minor": 2
}
